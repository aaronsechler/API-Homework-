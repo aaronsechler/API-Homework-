{
 "cells": [
  {
   "cell_type": "markdown",
   "metadata": {},
   "source": [
    "# Retirement Planner\n",
    "\n",
    "---\n",
    "\n",
    "## Environment Setup"
   ]
  },
  {
   "cell_type": "code",
   "execution_count": 20,
   "metadata": {},
   "outputs": [
    {
     "name": "stdout",
     "output_type": "stream",
     "text": [
      "Requirement already satisfied: alpaca-trade-api in /Users/aaronbsechler/opt/anaconda3/lib/python3.7/site-packages (0.49.0)\n",
      "Requirement already satisfied: pandas<2,>1 in /Users/aaronbsechler/opt/anaconda3/lib/python3.7/site-packages (from alpaca-trade-api) (1.0.1)\n",
      "Requirement already satisfied: websocket-client<1,>=0.56.0 in /Users/aaronbsechler/opt/anaconda3/lib/python3.7/site-packages (from alpaca-trade-api) (0.57.0)\n",
      "Requirement already satisfied: urllib3<1.26,>1.24 in /Users/aaronbsechler/opt/anaconda3/lib/python3.7/site-packages (from alpaca-trade-api) (1.25.8)\n",
      "Requirement already satisfied: websockets<9,>=8.0 in /Users/aaronbsechler/opt/anaconda3/lib/python3.7/site-packages (from alpaca-trade-api) (8.1)\n",
      "Requirement already satisfied: requests<3,>2 in /Users/aaronbsechler/opt/anaconda3/lib/python3.7/site-packages (from alpaca-trade-api) (2.22.0)\n",
      "Requirement already satisfied: alpha-vantage<3,>=2 in /Users/aaronbsechler/opt/anaconda3/lib/python3.7/site-packages (from alpaca-trade-api) (2.2.0)\n",
      "Requirement already satisfied: pytz>=2017.2 in /Users/aaronbsechler/opt/anaconda3/lib/python3.7/site-packages (from pandas<2,>1->alpaca-trade-api) (2019.3)\n",
      "Requirement already satisfied: python-dateutil>=2.6.1 in /Users/aaronbsechler/opt/anaconda3/lib/python3.7/site-packages (from pandas<2,>1->alpaca-trade-api) (2.8.1)\n",
      "Requirement already satisfied: numpy>=1.13.3 in /Users/aaronbsechler/opt/anaconda3/lib/python3.7/site-packages (from pandas<2,>1->alpaca-trade-api) (1.18.1)\n",
      "Requirement already satisfied: six in /Users/aaronbsechler/opt/anaconda3/lib/python3.7/site-packages (from websocket-client<1,>=0.56.0->alpaca-trade-api) (1.14.0)\n",
      "Requirement already satisfied: idna<2.9,>=2.5 in /Users/aaronbsechler/opt/anaconda3/lib/python3.7/site-packages (from requests<3,>2->alpaca-trade-api) (2.8)\n",
      "Requirement already satisfied: chardet<3.1.0,>=3.0.2 in /Users/aaronbsechler/opt/anaconda3/lib/python3.7/site-packages (from requests<3,>2->alpaca-trade-api) (3.0.4)\n",
      "Requirement already satisfied: certifi>=2017.4.17 in /Users/aaronbsechler/opt/anaconda3/lib/python3.7/site-packages (from requests<3,>2->alpaca-trade-api) (2019.11.28)\n",
      "Requirement already satisfied: aiohttp in /Users/aaronbsechler/opt/anaconda3/lib/python3.7/site-packages (from alpha-vantage<3,>=2->alpaca-trade-api) (3.6.2)\n",
      "Requirement already satisfied: yarl<2.0,>=1.0 in /Users/aaronbsechler/opt/anaconda3/lib/python3.7/site-packages (from aiohttp->alpha-vantage<3,>=2->alpaca-trade-api) (1.5.0)\n",
      "Requirement already satisfied: attrs>=17.3.0 in /Users/aaronbsechler/opt/anaconda3/lib/python3.7/site-packages (from aiohttp->alpha-vantage<3,>=2->alpaca-trade-api) (19.3.0)\n",
      "Requirement already satisfied: multidict<5.0,>=4.5 in /Users/aaronbsechler/opt/anaconda3/lib/python3.7/site-packages (from aiohttp->alpha-vantage<3,>=2->alpaca-trade-api) (4.7.6)\n",
      "Requirement already satisfied: async-timeout<4.0,>=3.0 in /Users/aaronbsechler/opt/anaconda3/lib/python3.7/site-packages (from aiohttp->alpha-vantage<3,>=2->alpaca-trade-api) (3.0.1)\n",
      "Requirement already satisfied: typing-extensions>=3.7.4 in /Users/aaronbsechler/opt/anaconda3/lib/python3.7/site-packages (from yarl<2.0,>=1.0->aiohttp->alpha-vantage<3,>=2->alpaca-trade-api) (3.7.4.2)\n"
     ]
    }
   ],
   "source": [
    "! pip install alpaca-trade-api\n",
    "\n",
    "# I have to re-install the alpaca-trade-api from the notebook for it to run in the notebook. If I don't do this it says that the alpaca\n",
    "# trade API isn't installed even though it is installed in my base environment. I don't know why.\n",
    "\n",
    "# Import libraries and dependencies\n",
    "import numpy as np\n",
    "import pandas as pd\n",
    "import os\n",
    "from datetime import datetime, timedelta\n",
    "import matplotlib.pyplot as plt\n",
    "import alpaca_trade_api as tradeapi\n",
    "%matplotlib inline"
   ]
  },
  {
   "cell_type": "code",
   "execution_count": 21,
   "metadata": {},
   "outputs": [],
   "source": [
    "# Set the random seed for resutls reproducibility (for testing purposes only)\n",
    "np.random.seed(42)"
   ]
  },
  {
   "cell_type": "markdown",
   "metadata": {},
   "source": [
    "---\n",
    "\n",
    "## Portfolio Planner\n",
    "\n",
    "In this activity, you will use the Alpaca API to grab historical data for a `60/40` portfolio using `SPY` to represent the stock portion and `AGG` to represent the bonds."
   ]
  },
  {
   "cell_type": "code",
   "execution_count": 22,
   "metadata": {},
   "outputs": [],
   "source": [
    "# Load .env enviroment variables\n",
    "from dotenv import load_dotenv\n",
    "load_dotenv()\n",
    "\n",
    "# Set Alpaca API key and secret\n",
    "alpaca_api_key = os.getenv(\"ALPACA_API_KEY\")\n",
    "alpaca_secret_key = os.getenv(\"ALPACA_SECRET_KEY\")\n",
    "\n",
    "# Create the Alpaca API object\n",
    "api = tradeapi.REST(\n",
    "    alpaca_api_key,\n",
    "    alpaca_secret_key,\n",
    "    api_version=\"v2\")"
   ]
  },
  {
   "cell_type": "markdown",
   "metadata": {},
   "source": [
    "# Data Collection\n",
    "\n",
    "In this step, you will need to use the Alpaca api to fetch closing prices for the `SPY` and `AGG` tickers. Save the results as a pandas DataFrame"
   ]
  },
  {
   "cell_type": "code",
   "execution_count": 23,
   "metadata": {},
   "outputs": [],
   "source": [
    "# Subset your tickers, then pull returns data:\n",
    "# Set the ticker\n",
    "ticker = [\"SPY\", \"AGG\"]\n",
    "\n",
    "# Set timeframe to '1D'\n",
    "timeframe = \"1D\"\n",
    "\n",
    "# Set start and end datetimes of 1 year, between now and 365 days ago.\n",
    "start_date = pd.Timestamp('2019-01-01', tz='America/New_York').isoformat()\n",
    "end_date = pd.Timestamp('2019-12-31', tz='America/New_York').isoformat()\n",
    "\n",
    "# Get 1 year's worth of historical data for SPY and AGG\n",
    "df = api.get_barset(\n",
    "    ticker,\n",
    "    timeframe,\n",
    "    limit=None,\n",
    "    start=start_date,\n",
    "    end=end_date,\n",
    "    after=None,\n",
    "    until=None,\n",
    ").df\n",
    "\n",
    "# Drop unnecessary columns\n",
    "df = df.drop(\n",
    "    columns=['open', 'high', 'low', 'volume'],\n",
    "    level=1\n",
    ")"
   ]
  },
  {
   "cell_type": "code",
   "execution_count": 9,
   "metadata": {},
   "outputs": [
    {
     "data": {
      "text/html": [
       "<div>\n",
       "<style scoped>\n",
       "    .dataframe tbody tr th:only-of-type {\n",
       "        vertical-align: middle;\n",
       "    }\n",
       "\n",
       "    .dataframe tbody tr th {\n",
       "        vertical-align: top;\n",
       "    }\n",
       "\n",
       "    .dataframe thead tr th {\n",
       "        text-align: left;\n",
       "    }\n",
       "</style>\n",
       "<table border=\"1\" class=\"dataframe\">\n",
       "  <thead>\n",
       "    <tr>\n",
       "      <th></th>\n",
       "      <th>AGG</th>\n",
       "      <th>SPY</th>\n",
       "    </tr>\n",
       "    <tr>\n",
       "      <th></th>\n",
       "      <th>close</th>\n",
       "      <th>close</th>\n",
       "    </tr>\n",
       "  </thead>\n",
       "  <tbody>\n",
       "    <tr>\n",
       "      <th>2019-01-02 00:00:00-05:00</th>\n",
       "      <td>106.585</td>\n",
       "      <td>249.89</td>\n",
       "    </tr>\n",
       "    <tr>\n",
       "      <th>2019-01-03 00:00:00-05:00</th>\n",
       "      <td>107.020</td>\n",
       "      <td>244.46</td>\n",
       "    </tr>\n",
       "    <tr>\n",
       "      <th>2019-01-04 00:00:00-05:00</th>\n",
       "      <td>106.695</td>\n",
       "      <td>252.41</td>\n",
       "    </tr>\n",
       "    <tr>\n",
       "      <th>2019-01-07 00:00:00-05:00</th>\n",
       "      <td>106.470</td>\n",
       "      <td>254.40</td>\n",
       "    </tr>\n",
       "    <tr>\n",
       "      <th>2019-01-08 00:00:00-05:00</th>\n",
       "      <td>106.420</td>\n",
       "      <td>256.65</td>\n",
       "    </tr>\n",
       "  </tbody>\n",
       "</table>\n",
       "</div>"
      ],
      "text/plain": [
       "                               AGG     SPY\n",
       "                             close   close\n",
       "2019-01-02 00:00:00-05:00  106.585  249.89\n",
       "2019-01-03 00:00:00-05:00  107.020  244.46\n",
       "2019-01-04 00:00:00-05:00  106.695  252.41\n",
       "2019-01-07 00:00:00-05:00  106.470  254.40\n",
       "2019-01-08 00:00:00-05:00  106.420  256.65"
      ]
     },
     "execution_count": 9,
     "metadata": {},
     "output_type": "execute_result"
    }
   ],
   "source": [
    "# Display sample data\n",
    "df.head()"
   ]
  },
  {
   "cell_type": "markdown",
   "metadata": {},
   "source": [
    "---\n",
    "\n",
    "## Monte Carlo Simulation\n",
    "\n",
    "In this step, you will run Monte Carlo Simulations for your portfolio to model portfolio performance at different retirement ages. \n",
    "\n",
    "Complete the following steps:\n",
    "\n",
    "1. Calculate the daily returns for the SPY and AGG closing prices.\n",
    "\n",
    "2. Calculate volatility for both the SPY and AGG closing prices.\n",
    "\n",
    "3. Find the last day's closing price for both stocks and save those as variables\n",
    "\n",
    "4. Run a Monte Carlo Simulation of at least `100` iterations and generate at least `30` years of closing prices\n",
    "\n",
    "**Hint:** There are `252` trading days per year, so the number of records to generate for each Monte Carlo run will be `252 days * 30 years`."
   ]
  },
  {
   "cell_type": "code",
   "execution_count": 24,
   "metadata": {},
   "outputs": [],
   "source": [
    "# Calculate the daily roi for the individual stocks. (This entire section gets returns for the stocks individually, the 60/40 weight of the\n",
    "# portfolio is considered when computing the returns of the entire portfolio.)\n",
    "\n",
    "daily_returns = df.pct_change()\n",
    "\n",
    "# Display sample data\n",
    "\n",
    "daily_returns.head()\n",
    "\n",
    "# Calculate average daily returns. I then check the results\n",
    "\n",
    "avg_daily_return_agg = daily_returns.mean()['AGG']['close']\n",
    "avg_daily_return_spy = daily_returns.mean()['SPY']['close']\n",
    "#avg_daily_return_agg\n",
    "#avg_daily_return_spy\n",
    "\n"
   ]
  },
  {
   "cell_type": "code",
   "execution_count": 25,
   "metadata": {},
   "outputs": [],
   "source": [
    "# Compute daily volatility. the #'d out code prints the results.\n",
    "\n",
    "std_dev_daily_return_agg = daily_returns.std()['AGG']['close']\n",
    "std_dev_daily_return_spy = daily_returns.std()['SPY']['close']\n",
    "#std_dev_daily_return_agg\n",
    "#std_dev_daily_return_spy"
   ]
  },
  {
   "cell_type": "code",
   "execution_count": 26,
   "metadata": {},
   "outputs": [],
   "source": [
    "# Save the last day's closing price. the #'d out code checks the value\n",
    "\n",
    "agg_last_price = df['AGG']['close'][-1]\n",
    "spy_last_price = df['SPY']['close'][-1]\n",
    "\n",
    "#print(agg_last_price)\n",
    "#print(spy_last_price)"
   ]
  },
  {
   "cell_type": "code",
   "execution_count": 27,
   "metadata": {},
   "outputs": [],
   "source": [
    "# Setup the Monte Carlo Parameters\n",
    "number_simulations = 500\n",
    "number_records = 252 * 30\n",
    "monte_carlo = pd.DataFrame()"
   ]
  },
  {
   "cell_type": "code",
   "execution_count": 34,
   "metadata": {},
   "outputs": [
    {
     "data": {
      "text/html": [
       "<div>\n",
       "<style scoped>\n",
       "    .dataframe tbody tr th:only-of-type {\n",
       "        vertical-align: middle;\n",
       "    }\n",
       "\n",
       "    .dataframe tbody tr th {\n",
       "        vertical-align: top;\n",
       "    }\n",
       "\n",
       "    .dataframe thead th {\n",
       "        text-align: right;\n",
       "    }\n",
       "</style>\n",
       "<table border=\"1\" class=\"dataframe\">\n",
       "  <thead>\n",
       "    <tr style=\"text-align: right;\">\n",
       "      <th></th>\n",
       "      <th>SPY prices</th>\n",
       "      <th>AGG prices</th>\n",
       "    </tr>\n",
       "  </thead>\n",
       "  <tbody>\n",
       "    <tr>\n",
       "      <th>0</th>\n",
       "      <td>NaN</td>\n",
       "      <td>NaN</td>\n",
       "    </tr>\n",
       "    <tr>\n",
       "      <th>1</th>\n",
       "      <td>-0.000340</td>\n",
       "      <td>-0.004004</td>\n",
       "    </tr>\n",
       "    <tr>\n",
       "      <th>2</th>\n",
       "      <td>-0.002158</td>\n",
       "      <td>0.000611</td>\n",
       "    </tr>\n",
       "    <tr>\n",
       "      <th>3</th>\n",
       "      <td>-0.004860</td>\n",
       "      <td>-0.002144</td>\n",
       "    </tr>\n",
       "    <tr>\n",
       "      <th>4</th>\n",
       "      <td>0.002523</td>\n",
       "      <td>0.003316</td>\n",
       "    </tr>\n",
       "  </tbody>\n",
       "</table>\n",
       "</div>"
      ],
      "text/plain": [
       "   SPY prices  AGG prices\n",
       "0         NaN         NaN\n",
       "1   -0.000340   -0.004004\n",
       "2   -0.002158    0.000611\n",
       "3   -0.004860   -0.002144\n",
       "4    0.002523    0.003316"
      ]
     },
     "execution_count": 34,
     "metadata": {},
     "output_type": "execute_result"
    }
   ],
   "source": [
    "# Run the Monte Carlo Simulation\n",
    "\n",
    "# Initialize empty DataFrame to hold simulated prices for each simulation, and declare empty lists for the individual stock prices.\n",
    "simulated_price_df = pd.DataFrame()\n",
    "portfolio_cumulative_returns = pd.DataFrame()\n",
    "simulated_agg_prices = []\n",
    "simulated_spy_prices = []\n",
    "\n",
    "# Run the simulation of projecting stock prices for the next trading year, `1000` times\n",
    "for n in range(number_simulations):\n",
    "\n",
    "    # Initialize the simulated prices list with the last closing price of `JNJ` and `MU`\n",
    "    simulated_agg_prices = [agg_last_price]\n",
    "    simulated_spy_prices = [spy_last_price]\n",
    "    \n",
    "    # Simulate the returns for 252 days\n",
    "    for i in range(number_records):\n",
    "        \n",
    "        # Calculate the simulated price using the last price within the list\n",
    "        simulated_agg_price = simulated_agg_prices[-1] * (1 + np.random.normal(avg_daily_return_agg, std_dev_daily_return_agg))\n",
    "        simulated_spy_price = simulated_spy_prices[-1] * (1 + np.random.normal(avg_daily_return_spy, std_dev_daily_return_spy))\n",
    "        \n",
    "        # Append the simulated price to the list\n",
    "        simulated_agg_prices.append(simulated_agg_price)\n",
    "        simulated_spy_prices.append(simulated_spy_price)\n",
    "    \n",
    "    # Append the simulated prices of each simulation to DataFrame\n",
    "    simulated_price_df[\"SPY prices\"] = pd.Series(simulated_spy_prices)\n",
    "    simulated_price_df[\"AGG prices\"] = pd.Series(simulated_agg_prices)\n",
    "    \n",
    "    \n",
    "    # Calculate the daily returns of simulated prices\n",
    "    simulated_daily_returns = simulated_price_df.pct_change()\n",
    "    \n",
    "    # Set the portfolio weights (60% SPY; 40% AGG)\n",
    "    weights = [0.60, 0.40]\n",
    "\n",
    "    # Use the `dot` function with the weights to multiply weights with each column's simulated daily returns\n",
    "    \n",
    "    portfolio_daily_returns = simulated_daily_returns.dot(weights)\n",
    "    \n",
    "    # Calculate the normalized, cumulative return series\n",
    "    portfolio_cumulative_returns[n] = (1 + portfolio_daily_returns.fillna(0)).cumprod()\n",
    "\n",
    "simulated_daily_returns.head()"
   ]
  },
  {
   "cell_type": "code",
   "execution_count": 35,
   "metadata": {},
   "outputs": [
    {
     "data": {
      "text/html": [
       "<div>\n",
       "<style scoped>\n",
       "    .dataframe tbody tr th:only-of-type {\n",
       "        vertical-align: middle;\n",
       "    }\n",
       "\n",
       "    .dataframe tbody tr th {\n",
       "        vertical-align: top;\n",
       "    }\n",
       "\n",
       "    .dataframe thead th {\n",
       "        text-align: right;\n",
       "    }\n",
       "</style>\n",
       "<table border=\"1\" class=\"dataframe\">\n",
       "  <thead>\n",
       "    <tr style=\"text-align: right;\">\n",
       "      <th></th>\n",
       "      <th>0</th>\n",
       "      <th>1</th>\n",
       "      <th>2</th>\n",
       "      <th>3</th>\n",
       "      <th>4</th>\n",
       "      <th>5</th>\n",
       "      <th>6</th>\n",
       "      <th>7</th>\n",
       "      <th>8</th>\n",
       "      <th>9</th>\n",
       "      <th>...</th>\n",
       "      <th>490</th>\n",
       "      <th>491</th>\n",
       "      <th>492</th>\n",
       "      <th>493</th>\n",
       "      <th>494</th>\n",
       "      <th>495</th>\n",
       "      <th>496</th>\n",
       "      <th>497</th>\n",
       "      <th>498</th>\n",
       "      <th>499</th>\n",
       "    </tr>\n",
       "  </thead>\n",
       "  <tbody>\n",
       "    <tr>\n",
       "      <th>0</th>\n",
       "      <td>1.000000</td>\n",
       "      <td>1.000000</td>\n",
       "      <td>1.000000</td>\n",
       "      <td>1.000000</td>\n",
       "      <td>1.000000</td>\n",
       "      <td>1.000000</td>\n",
       "      <td>1.000000</td>\n",
       "      <td>1.000000</td>\n",
       "      <td>1.000000</td>\n",
       "      <td>1.000000</td>\n",
       "      <td>...</td>\n",
       "      <td>1.000000</td>\n",
       "      <td>1.000000</td>\n",
       "      <td>1.000000</td>\n",
       "      <td>1.000000</td>\n",
       "      <td>1.000000</td>\n",
       "      <td>1.000000</td>\n",
       "      <td>1.000000</td>\n",
       "      <td>1.000000</td>\n",
       "      <td>1.000000</td>\n",
       "      <td>1.000000</td>\n",
       "    </tr>\n",
       "    <tr>\n",
       "      <th>1</th>\n",
       "      <td>1.006721</td>\n",
       "      <td>0.999442</td>\n",
       "      <td>0.998982</td>\n",
       "      <td>0.998631</td>\n",
       "      <td>1.007725</td>\n",
       "      <td>0.996021</td>\n",
       "      <td>1.003088</td>\n",
       "      <td>0.998853</td>\n",
       "      <td>1.002105</td>\n",
       "      <td>1.006692</td>\n",
       "      <td>...</td>\n",
       "      <td>1.002369</td>\n",
       "      <td>1.001967</td>\n",
       "      <td>0.998479</td>\n",
       "      <td>1.013219</td>\n",
       "      <td>0.995242</td>\n",
       "      <td>1.009911</td>\n",
       "      <td>1.002303</td>\n",
       "      <td>0.999704</td>\n",
       "      <td>1.001426</td>\n",
       "      <td>0.998195</td>\n",
       "    </tr>\n",
       "    <tr>\n",
       "      <th>2</th>\n",
       "      <td>1.006459</td>\n",
       "      <td>1.004598</td>\n",
       "      <td>0.992849</td>\n",
       "      <td>0.992657</td>\n",
       "      <td>1.012630</td>\n",
       "      <td>0.997227</td>\n",
       "      <td>1.002099</td>\n",
       "      <td>1.001710</td>\n",
       "      <td>0.993977</td>\n",
       "      <td>0.997324</td>\n",
       "      <td>...</td>\n",
       "      <td>0.998409</td>\n",
       "      <td>0.999102</td>\n",
       "      <td>1.003695</td>\n",
       "      <td>1.009557</td>\n",
       "      <td>0.995759</td>\n",
       "      <td>1.012837</td>\n",
       "      <td>1.010471</td>\n",
       "      <td>0.996325</td>\n",
       "      <td>1.000922</td>\n",
       "      <td>0.997147</td>\n",
       "    </tr>\n",
       "    <tr>\n",
       "      <th>3</th>\n",
       "      <td>1.006600</td>\n",
       "      <td>1.010785</td>\n",
       "      <td>0.991065</td>\n",
       "      <td>0.991706</td>\n",
       "      <td>1.007783</td>\n",
       "      <td>1.006118</td>\n",
       "      <td>0.994049</td>\n",
       "      <td>1.001247</td>\n",
       "      <td>0.993199</td>\n",
       "      <td>1.000707</td>\n",
       "      <td>...</td>\n",
       "      <td>0.995391</td>\n",
       "      <td>0.999044</td>\n",
       "      <td>1.005192</td>\n",
       "      <td>1.007860</td>\n",
       "      <td>0.997407</td>\n",
       "      <td>1.016499</td>\n",
       "      <td>1.017449</td>\n",
       "      <td>0.991667</td>\n",
       "      <td>1.001865</td>\n",
       "      <td>0.993384</td>\n",
       "    </tr>\n",
       "    <tr>\n",
       "      <th>4</th>\n",
       "      <td>1.004227</td>\n",
       "      <td>1.003911</td>\n",
       "      <td>0.989627</td>\n",
       "      <td>0.985967</td>\n",
       "      <td>1.006737</td>\n",
       "      <td>1.005515</td>\n",
       "      <td>0.991939</td>\n",
       "      <td>0.988753</td>\n",
       "      <td>0.987344</td>\n",
       "      <td>1.002651</td>\n",
       "      <td>...</td>\n",
       "      <td>0.989545</td>\n",
       "      <td>0.995995</td>\n",
       "      <td>1.002161</td>\n",
       "      <td>1.010235</td>\n",
       "      <td>1.002968</td>\n",
       "      <td>1.020809</td>\n",
       "      <td>1.012399</td>\n",
       "      <td>0.986989</td>\n",
       "      <td>0.998038</td>\n",
       "      <td>0.996205</td>\n",
       "    </tr>\n",
       "  </tbody>\n",
       "</table>\n",
       "<p>5 rows × 500 columns</p>\n",
       "</div>"
      ],
      "text/plain": [
       "        0         1         2         3         4         5         6    \\\n",
       "0  1.000000  1.000000  1.000000  1.000000  1.000000  1.000000  1.000000   \n",
       "1  1.006721  0.999442  0.998982  0.998631  1.007725  0.996021  1.003088   \n",
       "2  1.006459  1.004598  0.992849  0.992657  1.012630  0.997227  1.002099   \n",
       "3  1.006600  1.010785  0.991065  0.991706  1.007783  1.006118  0.994049   \n",
       "4  1.004227  1.003911  0.989627  0.985967  1.006737  1.005515  0.991939   \n",
       "\n",
       "        7         8         9    ...       490       491       492       493  \\\n",
       "0  1.000000  1.000000  1.000000  ...  1.000000  1.000000  1.000000  1.000000   \n",
       "1  0.998853  1.002105  1.006692  ...  1.002369  1.001967  0.998479  1.013219   \n",
       "2  1.001710  0.993977  0.997324  ...  0.998409  0.999102  1.003695  1.009557   \n",
       "3  1.001247  0.993199  1.000707  ...  0.995391  0.999044  1.005192  1.007860   \n",
       "4  0.988753  0.987344  1.002651  ...  0.989545  0.995995  1.002161  1.010235   \n",
       "\n",
       "        494       495       496       497       498       499  \n",
       "0  1.000000  1.000000  1.000000  1.000000  1.000000  1.000000  \n",
       "1  0.995242  1.009911  1.002303  0.999704  1.001426  0.998195  \n",
       "2  0.995759  1.012837  1.010471  0.996325  1.000922  0.997147  \n",
       "3  0.997407  1.016499  1.017449  0.991667  1.001865  0.993384  \n",
       "4  1.002968  1.020809  1.012399  0.986989  0.998038  0.996205  \n",
       "\n",
       "[5 rows x 500 columns]"
      ]
     },
     "execution_count": 35,
     "metadata": {},
     "output_type": "execute_result"
    }
   ],
   "source": [
    "# Check that the simulation ran successfully - the projections for the individual stocks are printed above.\n",
    "# Print records from the DataFrame\n",
    "\n",
    "portfolio_cumulative_returns.head()"
   ]
  },
  {
   "cell_type": "code",
   "execution_count": 37,
   "metadata": {},
   "outputs": [
    {
     "data": {
      "text/plain": [
       "<matplotlib.axes._subplots.AxesSubplot at 0x7f8de7f0ea90>"
      ]
     },
     "execution_count": 37,
     "metadata": {},
     "output_type": "execute_result"
    },
    {
     "data": {
      "image/png": "[encoded data removed]",
      "text/plain": [
       "<Figure size 432x288 with 1 Axes>"
      ]
     },
     "metadata": {
      "needs_background": "light"
     },
     "output_type": "display_data"
    }
   ],
   "source": [
    "# Visualize the Simulation\n",
    "\n",
    "plot_title = f\"{n+1} Simulations of Combined AGG & SPY Stock Price Trajectory Over the Next 30 Years\"\n",
    "portfolio_cumulative_returns.plot(legend=None, title=plot_title)\n"
   ]
  },
  {
   "cell_type": "code",
   "execution_count": 48,
   "metadata": {},
   "outputs": [
    {
     "name": "stdout",
     "output_type": "stream",
     "text": [
      "0      189.402829\n",
      "1      169.181532\n",
      "2      297.433580\n",
      "3      110.864233\n",
      "4      135.181295\n",
      "          ...    \n",
      "495    185.371498\n",
      "496    174.217231\n",
      "497    203.992083\n",
      "498    170.585083\n",
      "499     77.216985\n",
      "Name: 7560, Length: 500, dtype: float64\n"
     ]
    }
   ],
   "source": [
    "# Select the last row for the cumulative returns (cumulative returns at 30 years)\n",
    "\n",
    "last_row_simulated_ending_portfolio_values = portfolio_cumulative_returns.iloc[-1]\n",
    "print(last_row_simulated_ending_portfolio_values)"
   ]
  },
  {
   "cell_type": "code",
   "execution_count": 42,
   "metadata": {},
   "outputs": [],
   "source": [
    "# Select the last row for the cumulative returns (cumulative returns at 30 years)\n"
   ]
  },
  {
   "cell_type": "code",
   "execution_count": 49,
   "metadata": {},
   "outputs": [
    {
     "name": "stdout",
     "output_type": "stream",
     "text": [
      "0.05     94.422202\n",
      "0.95    382.268623\n",
      "Name: 7560, dtype: float64\n"
     ]
    }
   ],
   "source": [
    "# Display the 90% confidence interval for the ending returns\n",
    "confidence_interval = last_row_simulated_ending_portfolio_values.quantile(q=[0.05, 0.95])\n",
    "print(confidence_interval)"
   ]
  },
  {
   "cell_type": "code",
   "execution_count": 52,
   "metadata": {},
   "outputs": [
    {
     "data": {
      "text/plain": [
       "<matplotlib.axes._subplots.AxesSubplot at 0x7f8dcc343050>"
      ]
     },
     "execution_count": 52,
     "metadata": {},
     "output_type": "execute_result"
    },
    {
     "data": {
      "image/png": "[encoded data removed]",
      "text/plain": [
       "<Figure size 432x288 with 1 Axes>"
      ]
     },
     "metadata": {
      "needs_background": "light"
     },
     "output_type": "display_data"
    }
   ],
   "source": [
    "# Visualize the distribution of the ending returns. \n",
    "\n",
    "last_row_simulated_ending_portfolio_values.plot(kind='hist', bins=20)\n"
   ]
  },
  {
   "cell_type": "markdown",
   "metadata": {},
   "source": [
    "---"
   ]
  },
  {
   "cell_type": "markdown",
   "metadata": {},
   "source": [
    "## Retirement Analysis\n",
    "\n",
    "In this section, you will use the monte carlo model to answer the following retirement planning questions:\n",
    "\n",
    "1. What are the expected cumulative returns at `30` years for the `10th`, `50th`, and `90th` percentiles?\n",
    "\n",
    "2. Given an initial investment of `$20,000`, what is the expected return in dollars at the `10th`, `50th`, and `90th` percentiles?\n",
    "\n",
    "3. Given the current projected annual income from the Plaid analysis, will a `4%` withdrawal rate meet or exceed that value at the `10th` percentile? Note: This is basically determining if retirement income is equivalent to current income.\n",
    "\n",
    "4. How would a `50%` increase in the initial investment amount affect the `4%` retirement withdrawal? In other words, what happens if the initial investment had been bigger?"
   ]
  },
  {
   "cell_type": "markdown",
   "metadata": {},
   "source": [
    "### What are the expected cumulative returns at 30 years for the 10th, 50th, and 90th percentiles?"
   ]
  },
  {
   "cell_type": "code",
   "execution_count": 54,
   "metadata": {},
   "outputs": [
    {
     "data": {
      "text/plain": [
       "pandas.core.series.Series"
      ]
     },
     "execution_count": 54,
     "metadata": {},
     "output_type": "execute_result"
    }
   ],
   "source": [
    "# Compute cumulative returns\n",
    "\n",
    "tenth_percentive_confidence_interval = last_row_simulated_ending_portfolio_values.quantile(q=[0.45, 0.55])\n",
    "fiftieth_percentive_confidence_interval = last_row_simulated_ending_portfolio_values.quantile(q=[.5,.5])\n",
    "ninetieth_percentive_confidence_interval = last_row_simulated_ending_portfolio_values.quantile(q=[.05,.85])\n",
    "\n",
    "print(f\"The range for the 10th Percentile is {tenth_percentive_confidence_interval}, the range for the fiftieth percentile is {fiftieth_percentive_confidence_interval}, and the range for the nintieth is {ninetieth_percentive_confidence_interval}.\")"
   ]
  },
  {
   "cell_type": "markdown",
   "metadata": {},
   "source": [
    "### Given an initial investment of `$20,000`, what is the expected portfolio return in dollars at the 10th, 50th, and 90th percentiles?"
   ]
  },
  {
   "cell_type": "code",
   "execution_count": 60,
   "metadata": {},
   "outputs": [
    {
     "name": "stdout",
     "output_type": "stream",
     "text": [
      "There is a 10% chance that an initial investment of $20,000 in a portfolio composed of 60% AGG Stock and 40% SPY Bonds over the next 30 years of trading days will end within in the range of $8504.202068210927 and $9437.6853346412\n",
      "There is a 50% chance that an initial investment of $20,000 in a portfolio composed of 60% AGG Stock and 40% SPY Bonds over the next 30 years of trading days will end within in the range of $9135.742450487125 and $9135.742450487125\n",
      "There is a 90% chance that an initial investment of $20,000 in a portfolio composed of 60% AGG Stock and 40% SPY Bonds over the next 30 years of trading days will end within in the range of $4348.6483892642445 and $13787.224752163693\n"
     ]
    }
   ],
   "source": [
    "# Declare a function that will give the portfolio return\n",
    "\n",
    "initial_investment = 0\n",
    "portfolio_last_price = (agg_last_price + spy_last_price)\n",
    "specific_confidence_interval = tenth_percentive_confidence_interval\n",
    "specific_percentile = 0\n",
    "\n",
    "def portfolio_return_calculator(initial_investment, specific_confidence_interval, specific_percentile):\n",
    "\n",
    "# Declare variables for the function, initial investment the confidence interval you're looking for, and the associated percentile.\n",
    "# I was unsure how to declare an empty series so used a known one.\n",
    "# Calculate cumulative profit/loss of lower and upper bound\n",
    "    cumulative_portfolio_lower_bound = initial_investment * ((specific_confidence_interval.iloc[0] - portfolio_last_price) / portfolio_last_price)\n",
    "    cumulative_portfolio_upper_bound = initial_investment * ((specific_confidence_interval.iloc[1] - portfolio_last_price) / portfolio_last_price)\n",
    "\n",
    "# Add the initial investment to the cumulative profit/loss of lower and upper bound\n",
    "    ending_investment_lower_bound = initial_investment + cumulative_portfolio_lower_bound\n",
    "    ending_investment_upper_bound = initial_investment + cumulative_portfolio_upper_bound\n",
    "\n",
    "# Print the results\n",
    "    print(f\"There is a {specific_percentile}% chance that an initial investment of $20,000 in a portfolio composed of 60% AGG Stock and 40% SPY Bonds\"\n",
    "          f\" over the next 30 years of trading days will end within in the range of\"\n",
    "          f\" ${ending_investment_lower_bound} and ${ending_investment_upper_bound}\")\n",
    "    \n",
    "portfolio_return_calculator(20000, tenth_percentive_confidence_interval, 10) \n",
    "portfolio_return_calculator(20000, fiftieth_percentive_confidence_interval, 50) \n",
    "portfolio_return_calculator(20000, ninetieth_percentive_confidence_interval, 90) \n"
   ]
  },
  {
   "cell_type": "markdown",
   "metadata": {},
   "source": [
    "### Given the current projected annual income from the Plaid analysis, will a 4% withdraw rate from the retirement portfolio meet or exceed that value at the 10th percentile?\n",
    "\n",
    "Note: This is effectively saying that 90% of the expected returns will be greater than the return at the 10th percentile, so this can help measure the uncertainty about having enough funds at retirement"
   ]
  },
  {
   "cell_type": "markdown",
   "metadata": {},
   "source": [
    "# Set Plaid's projected income. I can't do this because I couldn't get the Plaid to work, so I've answered this by calculating \n",
    "# 4% of the 10th percentile return and comparing it to the initial investment. I asked Garance about this and he said to simply \n",
    "# take 4% of the expected return, which doesn't make sense so I can't answer the question.\n",
    "\n"
   ]
  },
  {
   "cell_type": "markdown",
   "metadata": {},
   "source": [
    "### How would a 50% increase in the initial investment amount affect the 4% retirement withdrawal?"
   ]
  },
  {
   "cell_type": "code",
   "execution_count": 62,
   "metadata": {},
   "outputs": [
    {
     "name": "stdout",
     "output_type": "stream",
     "text": [
      "There is a 10% chance that an initial investment of $20,000 in a portfolio composed of 60% AGG Stock and 40% SPY Bonds over the next 30 years of trading days will end within in the range of $12756.30310231639 and $14156.528001961802\n"
     ]
    }
   ],
   "source": [
    "# Re-calculate the retirement income with a 50% increase in the initial investment amount\n",
    "portfolio_return_calculator(30000, tenth_percentive_confidence_interval, 10) "
   ]
  },
  {
   "cell_type": "markdown",
   "metadata": {},
   "source": [
    "### Optional Challenge\n",
    "\n",
    "Use the Monte Carlo data and calculate the cumulative returns at the `5%`, `50%`, and `95%` quartiles and plot this data as a line chart to see how the cumulative returns change over the life of the investment.\n",
    "\n",
    "In this section, you need to calculate and plot the cumulative returns for the median and `90%` confidence intervals. This plot shows the expected cumulative returns for any given day between the first day and the last day of investment. "
   ]
  },
  {
   "cell_type": "code",
   "execution_count": null,
   "metadata": {},
   "outputs": [],
   "source": [
    "# Compute projected returns\n",
    "\n",
    "# Display sample data\n"
   ]
  },
  {
   "cell_type": "code",
   "execution_count": null,
   "metadata": {},
   "outputs": [],
   "source": [
    "# Plot the cumulative returns over time\n"
   ]
  },
  {
   "cell_type": "code",
   "execution_count": null,
   "metadata": {},
   "outputs": [],
   "source": [
    "# Compute portfolio performance over time\n",
    "\n",
    "# Plot projected performance over time\n"
   ]
  }
 ],
 "metadata": {
  "kernelspec": {
   "display_name": "Python 3",
   "language": "python",
   "name": "python3"
  },
  "language_info": {
   "codemirror_mode": {
    "name": "ipython",
    "version": 3
   },
   "file_extension": ".py",
   "mimetype": "text/x-python",
   "name": "python",
   "nbconvert_exporter": "python",
   "pygments_lexer": "ipython3",
   "version": "3.7.6"
  }
 },
 "nbformat": 4,
 "nbformat_minor": 4
}
